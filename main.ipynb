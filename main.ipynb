{
 "cells": [
  {
   "cell_type": "markdown",
   "metadata": {},
   "source": [
    "#Анализ тональности"
   ]
  },
  {
   "cell_type": "markdown",
   "metadata": {},
   "source": [
    "###Импорты"
   ]
  },
  {
   "cell_type": "code",
   "execution_count": 24,
   "metadata": {
    "collapsed": true
   },
   "outputs": [],
   "source": [
    "%matplotlib inline\n",
    "\n",
    "import json\n",
    "import numpy\n",
    "import matplotlib.pyplot as plot\n",
    "\n",
    "from sklearn.feature_extraction.text import CountVectorizer, TfidfTransformer\n",
    "from sklearn.linear_model import LogisticRegression\n",
    "from sklearn.cross_validation import train_test_split\n",
    "from sklearn import metrics"
   ]
  },
  {
   "cell_type": "markdown",
   "metadata": {},
   "source": [
    "###Функция для F1 меры"
   ]
  },
  {
   "cell_type": "code",
   "execution_count": 25,
   "metadata": {
    "collapsed": true
   },
   "outputs": [],
   "source": [
    "def f1_measure(P,R):\n",
    "    return [2*x*y/(x+y) for x,y in zip(P, R)]"
   ]
  },
  {
   "cell_type": "markdown",
   "metadata": {},
   "source": [
    "###Чтение файлов, bag of words, множество ответов"
   ]
  },
  {
   "cell_type": "code",
   "execution_count": 26,
   "metadata": {
    "collapsed": true
   },
   "outputs": [],
   "source": [
    "with open('/Users/ermakovpetr/projects/posneg/pos_reviews.json') as data_file:    \n",
    "    data_pos = json.load(data_file)\n",
    "with open('/Users/ermakovpetr/projects/posneg/neg_reviews.json') as data_file:    \n",
    "    data_neg = json.load(data_file)\n",
    "\n",
    "pos_texts = data_pos.keys()\n",
    "neg_texts = data_neg.keys()\n",
    "all_texts = pos_texts + neg_texts\n",
    "\n",
    "N_POS_TEXT = len(pos_texts)\n",
    "N_NEG_TEXT = len(neg_texts)\n",
    "target = [1]*N_POS_TEXT + [0]*N_NEG_TEXT"
   ]
  },
  {
   "cell_type": "markdown",
   "metadata": {},
   "source": [
    "###Матрица частотности"
   ]
  },
  {
   "cell_type": "code",
   "execution_count": 27,
   "metadata": {
    "collapsed": true
   },
   "outputs": [],
   "source": [
    "count_vect = CountVectorizer()\n",
    "temp_matrix = count_vect.fit_transform(all_texts)\n",
    "matrix_counts = temp_matrix.toarray()"
   ]
  },
  {
   "cell_type": "markdown",
   "metadata": {},
   "source": [
    "###Бинарная матрица встречаемости"
   ]
  },
  {
   "cell_type": "code",
   "execution_count": 28,
   "metadata": {
    "collapsed": true
   },
   "outputs": [],
   "source": [
    "count_vect_bin = CountVectorizer(binary=True)\n",
    "matrix_counts_bin = count_vect_bin.fit_transform(all_texts).toarray()"
   ]
  },
  {
   "cell_type": "markdown",
   "metadata": {},
   "source": [
    "###TF-IDF матрица"
   ]
  },
  {
   "cell_type": "code",
   "execution_count": 29,
   "metadata": {
    "collapsed": true
   },
   "outputs": [],
   "source": [
    "tfidf_transformer = TfidfTransformer()\n",
    "matrix_tfidf = tfidf_transformer.fit_transform(temp_matrix).toarray()"
   ]
  },
  {
   "cell_type": "markdown",
   "metadata": {},
   "source": [
    "###Relevance Frequency"
   ]
  },
  {
   "cell_type": "code",
   "execution_count": 30,
   "metadata": {
    "collapsed": true
   },
   "outputs": [],
   "source": [
    "def get_after_rf_matrix(in_matrix, in_matrix_bin, IN_N_POS_TEXTS, IN_N_NEG_TEXTS, out_n_features):\n",
    "    '''first text in all matrix mast be positive'''\n",
    "    pos_rf_prepare = in_matrix_bin[:IN_N_POS_TEXTS].sum(axis=0) \n",
    "    neg_rf_prepare = in_matrix_bin[IN_N_POS_TEXTS:].sum(axis=0)\n",
    "    pos_rf = numpy.array([math.log( 2 + (x / max(1,y)) , 2) for x,y in zip(pos_rf_prepare, neg_rf_prepare)])\n",
    "    neg_rf = numpy.array([math.log( 2 + (x / max(1,y)) , 2) for x,y in zip(neg_rf_prepare, pos_rf_prepare)])\n",
    "    l_pos = pos_rf.argsort()[out_n_features//2:]\n",
    "    l_neg = neg_rf.argsort()[out_n_features//2:]\n",
    "    return (in_matrix.transpose()[list(set(l_pos) | set(l_neg))]).transpose()"
   ]
  },
  {
   "cell_type": "markdown",
   "metadata": {},
   "source": [
    "###Кросс-валидация"
   ]
  },
  {
   "cell_type": "code",
   "execution_count": 36,
   "metadata": {
    "collapsed": false
   },
   "outputs": [],
   "source": [
    "def cross_valid(matrix_counts, target, test_size=0.3, random_state=0):\n",
    "    X_train, X_test, Y_train, Y_test = train_test_split(matrix_counts, target, test_size=0.3, random_state=0)\n",
    "    return (X_train, X_test, Y_train, Y_test)"
   ]
  },
  {
   "cell_type": "markdown",
   "metadata": {},
   "source": [
    "###Логистическая регрессия"
   ]
  },
  {
   "cell_type": "code",
   "execution_count": 101,
   "metadata": {
    "collapsed": false
   },
   "outputs": [],
   "source": [
    "def logistic_reg(X_train, X_test, Y_train, **kwargs):\n",
    "    model_logistic = LogisticRegression(**kwargs)\n",
    "    model_logistic.fit(X_train, Y_train)\n",
    "    predicted = model_logistic.predict_proba(X_test)\n",
    "    return predicted\n",
    "    \n",
    "def logistic_reg_pr(Y_test, predicted, label='?'):\n",
    "    precision, recall, _ = metrics.precision_recall_curve(Y_test, predicted[:,1])\n",
    "    plot.plot(recall, precision, label='R-P '+label);\n",
    "    plot.plot(recall, f1_measure(precision, recall), label='F1 '+label)\n",
    "    plot.xlabel('Recall'); plot.ylabel('Precision'); plot.title('Logistic Regression, Recall-Precision')\n",
    "    plot.legend(bbox_to_anchor=(1, 1), loc=2); plot.xlim([0.0, 1.0]); plot.ylim([0.0, 1]);\n",
    "\n",
    "def logistic_reg_roc(Y_test, predicted, label='?'):\n",
    "    fpr, tpr, _ = metrics.roc_curve(Y_test, predicted[:,1])\n",
    "    plot.plot(fpr, tpr, label=label);\n",
    "    plot.xlabel('Recall'); plot.ylabel('Precision'); plot.title('Logistic Regression, ROC')\n",
    "    plot.legend(bbox_to_anchor=(1, 1), loc=2); plot.xlim([0.0, 1.0]); plot.ylim([0.0, 1]);\n",
    "    print 'Logistic Regression (', label, ') AUC = ', metrics.auc(fpr, tpr)"
   ]
  },
  {
   "cell_type": "markdown",
   "metadata": {},
   "source": [
    "###Деление выборки"
   ]
  },
  {
   "cell_type": "code",
   "execution_count": 102,
   "metadata": {
    "collapsed": true
   },
   "outputs": [],
   "source": [
    "X_train, X_test, Y_train, Y_test = cross_valid(matrix_counts, target)"
   ]
  },
  {
   "cell_type": "markdown",
   "metadata": {},
   "source": [
    "###Логистическая регрессия на всех данных"
   ]
  },
  {
   "cell_type": "code",
   "execution_count": 103,
   "metadata": {
    "collapsed": false
   },
   "outputs": [],
   "source": [
    "logreg_1_predicted = logistic_reg(X_train, X_test, Y_train)"
   ]
  },
  {
   "cell_type": "markdown",
   "metadata": {},
   "source": [
    "###Логистическая регрессия на всех данных, penalty='l1'"
   ]
  },
  {
   "cell_type": "code",
   "execution_count": 104,
   "metadata": {
    "collapsed": false
   },
   "outputs": [],
   "source": [
    "logreg_2_predicted = logistic_reg(X_train, X_test, Y_train, penalty='l1')"
   ]
  },
  {
   "cell_type": "markdown",
   "metadata": {},
   "source": [
    "###Сравнения логистической регрессии"
   ]
  },
  {
   "cell_type": "code",
   "execution_count": 105,
   "metadata": {
    "collapsed": false
   },
   "outputs": [
    {
     "data": {
      "image/png": "[encoded data removed]",
      "text/plain": [
       "<matplotlib.figure.Figure at 0x157d1e750>"
      ]
     },
     "metadata": {},
     "output_type": "display_data"
    }
   ],
   "source": [
    "logistic_reg_pr(Y_test, logreg_1_predicted, label='l2'); logistic_reg_pr(Y_test, logreg_2_predicted, label='l1')"
   ]
  },
  {
   "cell_type": "code",
   "execution_count": 106,
   "metadata": {
    "collapsed": false
   },
   "outputs": [
    {
     "name": "stdout",
     "output_type": "stream",
     "text": [
      "Logistic Regression ( l2 ) AUC =  0.931306706992\n",
      "Logistic Regression ( l1 ) AUC =  0.912170877068\n"
     ]
    },
    {
     "data": {
      "image/png": "[encoded data removed]",
      "text/plain": [
       "<matplotlib.figure.Figure at 0x157d28cd0>"
      ]
     },
     "metadata": {},
     "output_type": "display_data"
    }
   ],
   "source": [
    "logistic_reg_roc(Y_test, logreg_1_predicted, label='l2'); logistic_reg_roc(Y_test, logreg_2_predicted, label='l1')"
   ]
  }
 ],
 "metadata": {
  "kernelspec": {
   "display_name": "Python 2",
   "language": "python",
   "name": "python2"
  },
  "language_info": {
   "codemirror_mode": {
    "name": "ipython",
    "version": 2
   },
   "file_extension": ".py",
   "mimetype": "text/x-python",
   "name": "python",
   "nbconvert_exporter": "python",
   "pygments_lexer": "ipython2",
   "version": "2.7.6"
  }
 },
 "nbformat": 4,
 "nbformat_minor": 0
}
